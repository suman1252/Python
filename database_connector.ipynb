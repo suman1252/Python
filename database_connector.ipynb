{
 "cells": [
  {
   "cell_type": "code",
   "execution_count": 2,
   "metadata": {},
   "outputs": [],
   "source": [
    "import mysql.connector"
   ]
  },
  {
   "cell_type": "code",
   "execution_count": 6,
   "metadata": {},
   "outputs": [
    {
     "name": "stdout",
     "output_type": "stream",
     "text": [
      "Error:2003: Can't connect to MySQL server on 'localhost:3306' (10061 No connection could be made because the target machine actively refused it)\n"
     ]
    }
   ],
   "source": [
    "try:\n",
    "    mydb=mysql.connector.connect(\n",
    "        host='localhost',\n",
    "        user='root',\n",
    "        passwd='admin',          #current password of your mysql workbench\n",
    "        database='dataanalysis',\n",
    "        auth_plugin='caching_sha2_password'\n",
    "    )\n",
    "    if mydb.is_connected():\n",
    "        print(\"Connected to the MySQL Database\")\n",
    "except mysql.connector.Error as err:\n",
    "    print(f\"Error:{err}\")\n",
    "    "
   ]
  },
  {
   "cell_type": "code",
   "execution_count": 4,
   "metadata": {},
   "outputs": [
    {
     "name": "stdout",
     "output_type": "stream",
     "text": [
      "Error:2003: Can't connect to MySQL server on 'localhost:3306' (10061 No connection could be made because the target machine actively refused it)\n"
     ]
    }
   ],
   "source": [
    "try:\n",
    "    mydb=mysql.connector.connect(\n",
    "        host='localhost',\n",
    "        user='root',\n",
    "        passwd='admin',   #current password of your mysql workbench\n",
    "        database='dataanalysis',\n",
    "        auth_plugin='caching_sha2_password'\n",
    "    )\n",
    "    if mydb.is_connected():\n",
    "        print(\"Connected to the MySQL Database\")\n",
    "except mysql.connector.Error as err:\n",
    "    print(f\"Error:{err}\")\n",
    "finally:\n",
    "    if 'mydb' in locals() and mydb.is_connected():\n",
    "        mydb.close()\n",
    "        print(\"Connection closed\")"
   ]
  },
  {
   "cell_type": "code",
   "execution_count": 5,
   "metadata": {},
   "outputs": [
    {
     "name": "stdout",
     "output_type": "stream",
     "text": [
      "Error:2003: Can't connect to MySQL server on 'localhost:3306' (10061 No connection could be made because the target machine actively refused it)\n"
     ]
    },
    {
     "ename": "NameError",
     "evalue": "name 'mydb' is not defined",
     "output_type": "error",
     "traceback": [
      "\u001b[1;31m---------------------------------------------------------------------------\u001b[0m",
      "\u001b[1;31mNameError\u001b[0m                                 Traceback (most recent call last)",
      "Cell \u001b[1;32mIn[5], line 15\u001b[0m\n\u001b[0;32m     12\u001b[0m     \u001b[38;5;28mprint\u001b[39m(\u001b[38;5;124mf\u001b[39m\u001b[38;5;124m\"\u001b[39m\u001b[38;5;124mError:\u001b[39m\u001b[38;5;132;01m{\u001b[39;00merr\u001b[38;5;132;01m}\u001b[39;00m\u001b[38;5;124m\"\u001b[39m)\n\u001b[0;32m     14\u001b[0m \u001b[38;5;28;01mtry\u001b[39;00m:\n\u001b[1;32m---> 15\u001b[0m     cursor\u001b[38;5;241m=\u001b[39m\u001b[43mmydb\u001b[49m\u001b[38;5;241m.\u001b[39mcursor()\n\u001b[0;32m     16\u001b[0m     query\u001b[38;5;241m=\u001b[39m\u001b[38;5;124m\"\u001b[39m\u001b[38;5;124mselect * from user_data\u001b[39m\u001b[38;5;124m\"\u001b[39m\n\u001b[0;32m     17\u001b[0m     cursor\u001b[38;5;241m.\u001b[39mexecute(query)\n",
      "\u001b[1;31mNameError\u001b[0m: name 'mydb' is not defined"
     ]
    }
   ],
   "source": [
    "try:\n",
    "    mydb=mysql.connector.connect(\n",
    "        host='localhost',\n",
    "        user='root',\n",
    "        passwd='admin',\n",
    "        database='dataanalysis',\n",
    "        auth_plugin='caching_sha2_password'\n",
    "    )\n",
    "    if mydb.is_connected():\n",
    "        print(\"Connected to the MySQL Database\")\n",
    "except mysql.connector.Error as err:\n",
    "    print(f\"Error:{err}\")\n",
    "    \n",
    "try:\n",
    "    cursor=mydb.cursor()\n",
    "    query=\"select * from user_data\"\n",
    "    cursor.execute(query)\n",
    "    user=cursor.fetchall()\n",
    "    for i in user:\n",
    "        print(i)\n",
    "finally:\n",
    "    if 'mydb' in locals() and mydb.is_connected():\n",
    "        mydb.close()\n",
    "        print(\"Connection closed\")"
   ]
  }
 ],
 "metadata": {
  "kernelspec": {
   "display_name": "Python 3",
   "language": "python",
   "name": "python3"
  },
  "language_info": {
   "codemirror_mode": {
    "name": "ipython",
    "version": 3
   },
   "file_extension": ".py",
   "mimetype": "text/x-python",
   "name": "python",
   "nbconvert_exporter": "python",
   "pygments_lexer": "ipython3",
   "version": "3.12.5"
  }
 },
 "nbformat": 4,
 "nbformat_minor": 2
}
