{
 "cells": [
  {
   "cell_type": "code",
   "execution_count": 1,
   "metadata": {},
   "outputs": [
    {
     "name": "stdout",
     "output_type": "stream",
     "text": [
      "3.3333333333333335\n"
     ]
    }
   ],
   "source": [
    "a=10/3\n",
    "print(a)"
   ]
  },
  {
   "cell_type": "code",
   "execution_count": 2,
   "metadata": {},
   "outputs": [
    {
     "data": {
      "text/plain": [
       "10.0"
      ]
     },
     "execution_count": 2,
     "metadata": {},
     "output_type": "execute_result"
    }
   ],
   "source": [
    "a*3"
   ]
  },
  {
   "cell_type": "code",
   "execution_count": 3,
   "metadata": {},
   "outputs": [
    {
     "name": "stdout",
     "output_type": "stream",
     "text": [
      "140728597478104\n",
      "140728597478104\n"
     ]
    }
   ],
   "source": [
    "\n",
    "a=10\n",
    "b=10\n",
    "print(id(a))\n",
    "print(id(b))"
   ]
  },
  {
   "cell_type": "markdown",
   "metadata": {},
   "source": [
    "Complex: complex is a combination of real and imaginary number."
   ]
  },
  {
   "cell_type": "code",
   "execution_count": 4,
   "metadata": {},
   "outputs": [
    {
     "name": "stdout",
     "output_type": "stream",
     "text": [
      "<class 'complex'>\n",
      "Real number is 3.0 and imaginary number is 4.0\n"
     ]
    }
   ],
   "source": [
    "c=3+4j\n",
    "print(type(c))\n",
    "print(f\"Real number is {c.real} and imaginary number is {c.imag}\")"
   ]
  },
  {
   "cell_type": "markdown",
   "metadata": {},
   "source": [
    "List:\n",
    "   -> List is collection of different type data\n",
    "   -> It is mutable in nature\n",
    "   -> not sutable foe memory optimization\n",
    "   -> create with the help of[]"
   ]
  },
  {
   "cell_type": "code",
   "execution_count": 5,
   "metadata": {},
   "outputs": [
    {
     "name": "stdout",
     "output_type": "stream",
     "text": [
      "['Suman', 'raj', 'rajvee', 4, 7, 5, 88.8, 90.5, 86.9]\n",
      "<class 'list'>\n"
     ]
    },
    {
     "data": {
      "text/plain": [
       "['Suman', 'raj', 'rajvee', 'ranbir', 7, 5, 88.8, 90.5, 86.9, 'Ranveer']"
      ]
     },
     "execution_count": 5,
     "metadata": {},
     "output_type": "execute_result"
    }
   ],
   "source": [
    "info=['Suman','raj','rajvee',4,7,5,88.8,90.5,86.9]\n",
    "print(info)\n",
    "print(type(info))\n",
    "info[3]='ranbir'\n",
    "info.append('Ranveer')\n",
    "info"
   ]
  },
  {
   "cell_type": "code",
   "execution_count": 6,
   "metadata": {},
   "outputs": [
    {
     "data": {
      "text/plain": [
       "[88.8, 90.5, 86.9]"
      ]
     },
     "execution_count": 6,
     "metadata": {},
     "output_type": "execute_result"
    }
   ],
   "source": [
    "name=[i for i in info if type(i)==float]\n",
    "name"
   ]
  },
  {
   "cell_type": "code",
   "execution_count": 7,
   "metadata": {},
   "outputs": [
    {
     "data": {
      "text/plain": [
       "['Suman', 'raj', 'rajvee', 'ranbir', 7, 5, 88.8, 90.5, 86.9, 'Ranveer']"
      ]
     },
     "execution_count": 7,
     "metadata": {},
     "output_type": "execute_result"
    }
   ],
   "source": [
    "new_info=[]\n",
    "new_info.extend(info)\n",
    "new_info"
   ]
  },
  {
   "cell_type": "code",
   "execution_count": 8,
   "metadata": {},
   "outputs": [
    {
     "name": "stdout",
     "output_type": "stream",
     "text": [
      "['Suman', 'raj', 'rajvee', 'ranbir', 'Ranveer']\n",
      "[7, 5]\n",
      "[88.8, 90.5, 86.9]\n"
     ]
    }
   ],
   "source": [
    "name=[]\n",
    "roll_no=[]\n",
    "percentage=[]\n",
    "for i in info:\n",
    "    if type(i)==str:\n",
    "        name.append(i)\n",
    "    elif type(i)==int:\n",
    "        roll_no.append(i)\n",
    "    else:\n",
    "        percentage.append(i)\n",
    "print(name)\n",
    "print(roll_no)\n",
    "print(percentage)"
   ]
  },
  {
   "cell_type": "markdown",
   "metadata": {},
   "source": [
    "Tuple:\n",
    "   -> It is a collecton of different data types\n",
    "   -> It is immutable in nature\n",
    "   -> It is sutable for meory optimization\n",
    "   -> It is created with the help of ()\n",
    "\n",
    "red=[255,0,0]\n",
    "green=[0,255,0]\n",
    "blue=[0,0,255]\n",
    "pi=[3.14]\n",
    "amar colony=[32424,-575675]"
   ]
  },
  {
   "cell_type": "code",
   "execution_count": 9,
   "metadata": {},
   "outputs": [
    {
     "data": {
      "text/plain": [
       "('Suman', 'Ani', 56, 75, 27)"
      ]
     },
     "execution_count": 9,
     "metadata": {},
     "output_type": "execute_result"
    }
   ],
   "source": [
    "t=('Suman','Ani',56,75,27)\n",
    "t"
   ]
  },
  {
   "cell_type": "code",
   "execution_count": 10,
   "metadata": {},
   "outputs": [
    {
     "data": {
      "text/plain": [
       "1"
      ]
     },
     "execution_count": 10,
     "metadata": {},
     "output_type": "execute_result"
    }
   ],
   "source": [
    "t.count('Suman')"
   ]
  },
  {
   "cell_type": "code",
   "execution_count": 11,
   "metadata": {},
   "outputs": [
    {
     "data": {
      "text/plain": [
       "2"
      ]
     },
     "execution_count": 11,
     "metadata": {},
     "output_type": "execute_result"
    }
   ],
   "source": [
    "t.index(56)"
   ]
  },
  {
   "cell_type": "markdown",
   "metadata": {},
   "source": [
    "Set:\n",
    "   -> It is collection of different data types\n",
    "   -> It is mutable in nature\n",
    "   -> It don't store the duplicate values\n",
    "   -> It is created with the help of {}"
   ]
  },
  {
   "cell_type": "code",
   "execution_count": 12,
   "metadata": {},
   "outputs": [
    {
     "data": {
      "text/plain": [
       "{'Boxing', 'Dancing', 'Singing'}"
      ]
     },
     "execution_count": 12,
     "metadata": {},
     "output_type": "execute_result"
    }
   ],
   "source": [
    "person_hobbies={'Dancing','Boxing','Singing','Dancing'}\n",
    "person_hobbies"
   ]
  },
  {
   "cell_type": "markdown",
   "metadata": {},
   "source": [
    "How many keywords we have in Python?\n",
    "\n",
    "It's depend on version to version but in version 3.12.4 is 35."
   ]
  },
  {
   "cell_type": "code",
   "execution_count": 13,
   "metadata": {},
   "outputs": [
    {
     "name": "stdout",
     "output_type": "stream",
     "text": [
      "['False', 'None', 'True', 'and', 'as', 'assert', 'async', 'await', 'break', 'class', 'continue', 'def', 'del', 'elif', 'else', 'except', 'finally', 'for', 'from', 'global', 'if', 'import', 'in', 'is', 'lambda', 'nonlocal', 'not', 'or', 'pass', 'raise', 'return', 'try', 'while', 'with', 'yield']\n",
      "35\n"
     ]
    }
   ],
   "source": [
    "import keyword\n",
    "print(keyword.kwlist)\n",
    "print(len(keyword.kwlist))\n"
   ]
  },
  {
   "cell_type": "markdown",
   "metadata": {},
   "source": [
    "Dictionary:\n",
    "\n",
    "   -> It is collection of key value pair.\n",
    "   -> It does not allow duplicate key value but allows us to store multiple values for same key that too with duplicates.\n",
    "   -> It is mutable in nature.\n",
    "   -> It is created with the help of {}"
   ]
  },
  {
   "cell_type": "code",
   "execution_count": 14,
   "metadata": {},
   "outputs": [
    {
     "data": {
      "text/plain": [
       "98"
      ]
     },
     "execution_count": 14,
     "metadata": {},
     "output_type": "execute_result"
    }
   ],
   "source": [
    "students1={\n",
    "    'Name':'Suman',\n",
    "    'Percentage':98\n",
    "}\n",
    "students1['Percentage']"
   ]
  },
  {
   "cell_type": "code",
   "execution_count": 15,
   "metadata": {},
   "outputs": [
    {
     "data": {
      "text/plain": [
       "['Suman', 'raj', 'rajvee', 'ranbir', 'Ranveer']"
      ]
     },
     "execution_count": 15,
     "metadata": {},
     "output_type": "execute_result"
    }
   ],
   "source": [
    "students={\n",
    "    'Name':name,\n",
    "    'roll_no':roll_no,\n",
    "    'percentage':percentage\n",
    "}\n",
    "students['Name']"
   ]
  },
  {
   "cell_type": "code",
   "execution_count": 16,
   "metadata": {},
   "outputs": [
    {
     "data": {
      "text/plain": [
       "{'Name': ['Suman', 'Raj', 'Rajvee'],\n",
       " 'roll_no': [5, 8, 2],\n",
       " 'percentage': [97, 79, 60]}"
      ]
     },
     "execution_count": 16,
     "metadata": {},
     "output_type": "execute_result"
    }
   ],
   "source": [
    "name=['Suman','Raj','Rajvee']\n",
    "roll_no=[5,8,2]\n",
    "percentage=[97,79,60]\n",
    "students={\n",
    "    'Name':name,\n",
    "    'roll_no':roll_no,\n",
    "    'percentage':percentage\n",
    "}\n",
    "students"
   ]
  },
  {
   "cell_type": "code",
   "execution_count": 17,
   "metadata": {},
   "outputs": [
    {
     "data": {
      "text/plain": [
       "60"
      ]
     },
     "execution_count": 17,
     "metadata": {},
     "output_type": "execute_result"
    }
   ],
   "source": [
    "name=['Suman','Raj','Rajvee']\n",
    "roll_no=[5,8,2]\n",
    "percentage=[97,79,60]\n",
    "students={\n",
    "    'Name':name,\n",
    "    'roll_no':roll_no,\n",
    "    'percentage':percentage\n",
    "}\n",
    "min(students['percentage'])"
   ]
  },
  {
   "cell_type": "code",
   "execution_count": 18,
   "metadata": {},
   "outputs": [
    {
     "name": "stdout",
     "output_type": "stream",
     "text": [
      "Suman who score 97 is topper of the class\n",
      "Suman who score 97 is a topper of the class\n"
     ]
    }
   ],
   "source": [
    "name=['Suman','Ani','Manish']\n",
    "roll_no=[5,8,2]\n",
    "percentage=[97,79,60]\n",
    "students={\n",
    "    'Name':name,\n",
    "    'roll_no':roll_no,\n",
    "    'percentage':percentage\n",
    "}\n",
    "sc=max(students['percentage'])\n",
    "n=students['Name'][students['percentage'].index(sc)]\n",
    "print(f\"{n} who score {sc} is topper of the class\")\n",
    "print(n,\"who score\",sc,\"is a topper of the class\")"
   ]
  },
  {
   "cell_type": "code",
   "execution_count": 19,
   "metadata": {},
   "outputs": [
    {
     "data": {
      "text/plain": [
       "'Manish'"
      ]
     },
     "execution_count": 19,
     "metadata": {},
     "output_type": "execute_result"
    }
   ],
   "source": [
    "students['Name'][students['percentage'].index(60)]"
   ]
  },
  {
   "cell_type": "code",
   "execution_count": 20,
   "metadata": {},
   "outputs": [
    {
     "data": {
      "text/plain": [
       "[11, 12, 13, 14, 15, 16, 17, 18, 19, 20]"
      ]
     },
     "execution_count": 20,
     "metadata": {},
     "output_type": "execute_result"
    }
   ],
   "source": [
    "number=[i for i in range(11,21)]\n",
    "number"
   ]
  },
  {
   "cell_type": "code",
   "execution_count": 21,
   "metadata": {},
   "outputs": [
    {
     "data": {
      "text/plain": [
       "[11, 12, 13, 14, 15, 16, 17, 18, 19, 20]"
      ]
     },
     "execution_count": 21,
     "metadata": {},
     "output_type": "execute_result"
    }
   ],
   "source": [
    "n=[]\n",
    "for i in range(11,21):\n",
    "    n.append(i)\n",
    "n"
   ]
  },
  {
   "cell_type": "code",
   "execution_count": 22,
   "metadata": {},
   "outputs": [
    {
     "data": {
      "text/plain": [
       "[12, 14, 16, 18, 20, 22]"
      ]
     },
     "execution_count": 22,
     "metadata": {},
     "output_type": "execute_result"
    }
   ],
   "source": [
    "number=[i for i in range(11,23)if i%2==0]\n",
    "number"
   ]
  },
  {
   "cell_type": "code",
   "execution_count": 23,
   "metadata": {},
   "outputs": [
    {
     "data": {
      "text/plain": [
       "[35, 37, 39, 41, 43, 45, 47, 49, 51, 53]"
      ]
     },
     "execution_count": 23,
     "metadata": {},
     "output_type": "execute_result"
    }
   ],
   "source": [
    "number=[i for i in range(34,54)if i%2!=0]\n",
    "number"
   ]
  },
  {
   "cell_type": "code",
   "execution_count": 24,
   "metadata": {},
   "outputs": [
    {
     "data": {
      "text/plain": [
       "[1225, 1369, 1521, 1681, 1849, 2025, 2209, 2401, 2601, 2809]"
      ]
     },
     "execution_count": 24,
     "metadata": {},
     "output_type": "execute_result"
    }
   ],
   "source": [
    "number=[i**2 for i in range(34,54)if i%2!=0]\n",
    "number"
   ]
  },
  {
   "cell_type": "code",
   "execution_count": 25,
   "metadata": {},
   "outputs": [
    {
     "data": {
      "text/plain": [
       "([4, 16, 36, 64, 100], [1, 27, 125, 343, 729])"
      ]
     },
     "execution_count": 25,
     "metadata": {},
     "output_type": "execute_result"
    }
   ],
   "source": [
    "number=[i**2 for i in range(1,11) if i%2==0],[i**3 for i in range(1,11) if i%2!=0]\n",
    "number"
   ]
  },
  {
   "cell_type": "code",
   "execution_count": 26,
   "metadata": {},
   "outputs": [
    {
     "data": {
      "text/plain": [
       "[1, 4, 27, 16, 125, 36, 343, 64, 729, 100]"
      ]
     },
     "execution_count": 26,
     "metadata": {},
     "output_type": "execute_result"
    }
   ],
   "source": [
    "number=[i**2 if i%2==0 else i**3 for i in range(1,11)]\n",
    "number"
   ]
  },
  {
   "cell_type": "code",
   "execution_count": 27,
   "metadata": {},
   "outputs": [
    {
     "data": {
      "text/plain": [
       "['Suman contains 5',\n",
       " 'ani contains 3',\n",
       " 'manish contains 6',\n",
       " 'neha contains 4',\n",
       " 'pinky contains 5']"
      ]
     },
     "execution_count": 27,
     "metadata": {},
     "output_type": "execute_result"
    }
   ],
   "source": [
    "names=['Suman','ani','manish','neha','pinky']\n",
    "length=([f\"{name} contains {len(name)}\" for name in names])\n",
    "length"
   ]
  },
  {
   "cell_type": "markdown",
   "metadata": {},
   "source": [
    "Numpy:\n",
    "\n",
    "    -> It is python library that stands for numeric python.\n",
    "    -> It provide support for multiple dimensional array and matrices along with collection of mathematical function to operate on these array efficiently.\n",
    "\n",
    "Need:\n",
    "\n",
    "    -> Array: It introduce the concept of array which are similar to list in python but store and manipulate large amount of data more efficientlt.\n",
    "\n",
    "    -> Numerical operation: scalar, relational, logarithms and exponentials.\n",
    "\n",
    "    -> Efficiency: It is faster than python list.\n",
    "\n",
    "    -> Broadcasting: Allows operations between arrays of different shape and size.\n",
    "\n",
    "    -> Integration: Scipy, Pandas, Matplotlib.\n",
    "\n",
    "Numpy vs List:\n",
    "\n",
    "    -> Numpy is fix where as list is dynamic.\n",
    "    -> Numpy contain homogenious data where as list contain all type of data.\n",
    "    -> Numpy perform difficult operation where as list required large coding."
   ]
  },
  {
   "cell_type": "code",
   "execution_count": 28,
   "metadata": {},
   "outputs": [
    {
     "name": "stdout",
     "output_type": "stream",
     "text": [
      "[12 32 54 65]\n",
      "<class 'numpy.ndarray'>\n"
     ]
    }
   ],
   "source": [
    "import numpy as np\n",
    "n=np.array([12,32,54,65])\n",
    "print(n)\n",
    "print(type(n))"
   ]
  },
  {
   "cell_type": "code",
   "execution_count": 29,
   "metadata": {},
   "outputs": [
    {
     "name": "stdout",
     "output_type": "stream",
     "text": [
      "[[1 2 3]\n",
      " [5 4 3]]\n"
     ]
    }
   ],
   "source": [
    "n1=np.array([[1,2,3],[5,4,3]]) #creating 2d array (matrix)\n",
    "print(n1)"
   ]
  },
  {
   "cell_type": "code",
   "execution_count": 30,
   "metadata": {},
   "outputs": [
    {
     "name": "stdout",
     "output_type": "stream",
     "text": [
      "[[[ 1  2  3]\n",
      "  [ 4  5  6]\n",
      "  [ 7  8  9]\n",
      "  [10 11 12]]]\n"
     ]
    }
   ],
   "source": [
    "n2=np.array([[[1,2,3],[4,5,6],[7,8,9],[10,11,12]]])#craeting 3d array (tensor)\n",
    "print(n2)"
   ]
  },
  {
   "cell_type": "code",
   "execution_count": 31,
   "metadata": {},
   "outputs": [
    {
     "name": "stdout",
     "output_type": "stream",
     "text": [
      "0.006147146224975586\n",
      "0.0009958744049072266\n"
     ]
    }
   ],
   "source": [
    "import time\n",
    "a=[i for i in range(10000)]\n",
    "b=[i for i in range(10000,20000)]\n",
    "c=[]\n",
    "s=time.time()\n",
    "for i in range (len(a)):\n",
    "    c.append(a[i]+b[i])\n",
    "print(time.time()-s)\n",
    "\n",
    "a1=np.arange(10000)\n",
    "b1=np.arange(10000,20000)\n",
    "s1=time.time()\n",
    "c1=a1+b1\n",
    "print(time.time()-s1)\n"
   ]
  },
  {
   "cell_type": "code",
   "execution_count": 32,
   "metadata": {},
   "outputs": [
    {
     "name": "stdout",
     "output_type": "stream",
     "text": [
      "[ 1  2  3  4  5  6  7  8  9 10]\n",
      "[11 16 21]\n",
      "[32 36 40 44 48]\n"
     ]
    }
   ],
   "source": [
    "n=np.arange(1,11)\n",
    "print(n)\n",
    "\n",
    "n=np.arange(11,23,5)\n",
    "print(n)\n",
    "\n",
    "n=np.arange(11,21,2)\n",
    "n1=np.arange(21,31,2)\n",
    "print(n+n1)"
   ]
  },
  {
   "cell_type": "code",
   "execution_count": 33,
   "metadata": {},
   "outputs": [
    {
     "name": "stdout",
     "output_type": "stream",
     "text": [
      "[[12 13 14]\n",
      " [15 16 17]\n",
      " [18 19 20]\n",
      " [21 22 23]]\n"
     ]
    }
   ],
   "source": [
    "#converting 1D array to 2D array\n",
    "#2D array\n",
    "n3=np.arange(12,24)\n",
    "n3=n3.reshape((4,3))\n",
    "print(n3)\n"
   ]
  },
  {
   "cell_type": "code",
   "execution_count": 34,
   "metadata": {},
   "outputs": [
    {
     "name": "stdout",
     "output_type": "stream",
     "text": [
      "[[[12 13 14]\n",
      "  [15 16 17]]\n",
      "\n",
      " [[18 19 20]\n",
      "  [21 22 23]]]\n"
     ]
    }
   ],
   "source": [
    "#converting 1D array to 3D array\n",
    "#3D array\n",
    "n4=np.arange(12,24)\n",
    "n4=n4.reshape((2,2,3))\n",
    "print(n4)"
   ]
  },
  {
   "cell_type": "code",
   "execution_count": 35,
   "metadata": {},
   "outputs": [
    {
     "name": "stdout",
     "output_type": "stream",
     "text": [
      "12\n",
      "(2, 2, 3)\n",
      "3\n"
     ]
    }
   ],
   "source": [
    "print(np.size(n4))\n",
    "print(np.shape(n4))\n",
    "print(np.ndim(n4))\n"
   ]
  },
  {
   "cell_type": "code",
   "execution_count": 36,
   "metadata": {},
   "outputs": [
    {
     "name": "stdout",
     "output_type": "stream",
     "text": [
      "[12 13 14 15 16 17 18 19 20 21 22 23]\n"
     ]
    }
   ],
   "source": [
    "#Flatten is used to convert 2d, 3d dimensional array to !D array\n",
    "f=n4.flatten()\n",
    "print(f)"
   ]
  },
  {
   "cell_type": "code",
   "execution_count": 37,
   "metadata": {},
   "outputs": [
    {
     "name": "stdout",
     "output_type": "stream",
     "text": [
      "[[0. 0. 0. 0. 0.]\n",
      " [0. 0. 0. 0. 0.]\n",
      " [0. 0. 0. 0. 0.]\n",
      " [0. 0. 0. 0. 0.]]\n"
     ]
    }
   ],
   "source": [
    "# creating zeroes matrix array\n",
    "z=np.zeros((4,5))\n",
    "print(z)"
   ]
  },
  {
   "cell_type": "code",
   "execution_count": 38,
   "metadata": {},
   "outputs": [
    {
     "name": "stdout",
     "output_type": "stream",
     "text": [
      "[[1. 1.]\n",
      " [1. 1.]\n",
      " [1. 1.]\n",
      " [1. 1.]\n",
      " [1. 1.]]\n"
     ]
    }
   ],
   "source": [
    "#craeting ones matrix array\n",
    "o=np.ones((5,2))\n",
    "print(o)"
   ]
  },
  {
   "cell_type": "code",
   "execution_count": 39,
   "metadata": {},
   "outputs": [
    {
     "data": {
      "text/plain": [
       "array([[1., 0., 0., 0., 0.],\n",
       "       [0., 1., 0., 0., 0.],\n",
       "       [0., 0., 1., 0., 0.],\n",
       "       [0., 0., 0., 1., 0.],\n",
       "       [0., 0., 0., 0., 1.]])"
      ]
     },
     "execution_count": 39,
     "metadata": {},
     "output_type": "execute_result"
    }
   ],
   "source": [
    "# creating identity matrix array\n",
    "np.identity(5)"
   ]
  },
  {
   "cell_type": "code",
   "execution_count": 40,
   "metadata": {},
   "outputs": [
    {
     "name": "stdout",
     "output_type": "stream",
     "text": [
      "[[ 0  1  2  3]\n",
      " [ 4  5  6  7]\n",
      " [ 8  9 10 11]]\n",
      "[[ 1  2  3  4]\n",
      " [ 5  6  7  8]\n",
      " [ 9 10 11 12]]\n",
      "[[ 0  1  2  3]\n",
      " [ 4  5  6  7]\n",
      " [ 8  9 10 11]]\n",
      "[[  0   1   4   9]\n",
      " [ 16  25  36  49]\n",
      " [ 64  81 100 121]]\n"
     ]
    }
   ],
   "source": [
    "#scalar operation\n",
    "c1=np.arange(12).reshape((3,4))\n",
    "print(c1)\n",
    "print(c1+1)\n",
    "\n",
    "c1=np.arange(12).reshape((3,4))\n",
    "print(c1)\n",
    "print(c1*c1)"
   ]
  },
  {
   "cell_type": "code",
   "execution_count": 41,
   "metadata": {},
   "outputs": [
    {
     "name": "stdout",
     "output_type": "stream",
     "text": [
      "[[ 0  1  2  3]\n",
      " [ 4  5  6  7]\n",
      " [ 8  9 10 11]]\n"
     ]
    },
    {
     "data": {
      "text/plain": [
       "array([[ True, False,  True, False],\n",
       "       [ True, False,  True, False],\n",
       "       [ True, False,  True, False]])"
      ]
     },
     "execution_count": 41,
     "metadata": {},
     "output_type": "execute_result"
    }
   ],
   "source": [
    "#relationship operation\n",
    "cl1=np.arange(12).reshape((3,4))\n",
    "print(cl1)\n",
    "cl1%2==0"
   ]
  },
  {
   "cell_type": "code",
   "execution_count": 42,
   "metadata": {},
   "outputs": [
    {
     "data": {
      "text/plain": [
       "array([[52., 51., 40.],\n",
       "       [32., 63.,  4.],\n",
       "       [63., 53., 53.]])"
      ]
     },
     "execution_count": 42,
     "metadata": {},
     "output_type": "execute_result"
    }
   ],
   "source": [
    "d1=np.random.random((3,3))\n",
    "d1=np.round(d1*100)\n",
    "d1"
   ]
  },
  {
   "cell_type": "code",
   "execution_count": 43,
   "metadata": {},
   "outputs": [
    {
     "data": {
      "text/plain": [
       "array([[37., 95., 73.],\n",
       "       [60., 16., 16.],\n",
       "       [ 6., 87., 60.]])"
      ]
     },
     "execution_count": 43,
     "metadata": {},
     "output_type": "execute_result"
    }
   ],
   "source": [
    "# Seed function is used to generate random values but generate same values for all users\n",
    "# import numpy as np\n",
    "np.random.seed(42)\n",
    "d1=np.random.random((3,3))\n",
    "d1=np.round(d1*100)\n",
    "d1"
   ]
  },
  {
   "cell_type": "code",
   "execution_count": 44,
   "metadata": {},
   "outputs": [
    {
     "data": {
      "text/plain": [
       "12"
      ]
     },
     "execution_count": 44,
     "metadata": {},
     "output_type": "execute_result"
    }
   ],
   "source": [
    "#Round function help to taking After decimal values\n",
    "n=12.3457869\n",
    "round(n)"
   ]
  },
  {
   "cell_type": "code",
   "execution_count": 45,
   "metadata": {},
   "outputs": [
    {
     "data": {
      "text/plain": [
       "1235"
      ]
     },
     "execution_count": 45,
     "metadata": {},
     "output_type": "execute_result"
    }
   ],
   "source": [
    "#Round function help to taking After decimal values\n",
    "n=12.3457869\n",
    "round(n*100)"
   ]
  },
  {
   "cell_type": "code",
   "execution_count": 46,
   "metadata": {},
   "outputs": [
    {
     "name": "stdout",
     "output_type": "stream",
     "text": [
      "Max value for each column[60. 95. 73.]\n",
      "Max value for each row [95. 60. 87.]\n",
      "min value foe each column[ 6. 16. 16.]\n",
      "min value foe each row[37. 16.  6.]\n"
     ]
    }
   ],
   "source": [
    "#For finding \"Max\" and \"Min\" value in the given array\n",
    "print(f\"Max value for each column{np.max(d1,axis=0)}\")  #axis=0 for column\n",
    "print(f\"Max value for each row {np.max(d1,axis=1)}\")    #axis=1 for row\n",
    "print(f\"min value foe each column{np.min(d1,axis=0)}\")  #axis=0 for column\n",
    "print(f\"min value foe each row{np.min(d1,axis=1)}\")     #axis=1 for row"
   ]
  },
  {
   "cell_type": "code",
   "execution_count": 47,
   "metadata": {},
   "outputs": [
    {
     "name": "stdout",
     "output_type": "stream",
     "text": [
      "[[1 2]\n",
      " [3 4]]\n",
      "[[10 11]\n",
      " [12 13]]\n"
     ]
    }
   ],
   "source": [
    "arr1=np.array([[1,2],[3,4]])\n",
    "arr2=np.array([[10,11],[12,13]])\n",
    "print(arr1)\n",
    "print(arr2)"
   ]
  },
  {
   "cell_type": "code",
   "execution_count": 48,
   "metadata": {},
   "outputs": [
    {
     "name": "stdout",
     "output_type": "stream",
     "text": [
      "[[ 1  2]\n",
      " [ 3  4]\n",
      " [10 11]\n",
      " [12 13]]\n"
     ]
    }
   ],
   "source": [
    "#combine by column (vertically)\n",
    "vstack1=np.vstack((arr1,arr2))\n",
    "print(vstack1)"
   ]
  },
  {
   "cell_type": "code",
   "execution_count": 49,
   "metadata": {},
   "outputs": [
    {
     "data": {
      "text/plain": [
       "array([[ 1,  2, 10, 11],\n",
       "       [ 3,  4, 12, 13]])"
      ]
     },
     "execution_count": 49,
     "metadata": {},
     "output_type": "execute_result"
    }
   ],
   "source": [
    "#combine by row (horizontally)\n",
    "hstack1=np.hstack((arr1,arr2))\n",
    "hstack1"
   ]
  },
  {
   "cell_type": "code",
   "execution_count": 50,
   "metadata": {},
   "outputs": [
    {
     "data": {
      "text/plain": [
       "array([ 9, 10, 11, 12, 13, 14, 15, 16, 17, 18])"
      ]
     },
     "execution_count": 50,
     "metadata": {},
     "output_type": "execute_result"
    }
   ],
   "source": [
    "arr=np.arange(9,19)\n",
    "arr"
   ]
  },
  {
   "cell_type": "code",
   "execution_count": 51,
   "metadata": {},
   "outputs": [
    {
     "data": {
      "text/plain": [
       "[array([ 9, 10, 11, 12, 13]), array([14, 15, 16, 17, 18])]"
      ]
     },
     "execution_count": 51,
     "metadata": {},
     "output_type": "execute_result"
    }
   ],
   "source": [
    "#by default, it split vertically\n",
    "split_arr=np.split(arr,2)\n",
    "split_arr"
   ]
  },
  {
   "cell_type": "code",
   "execution_count": 52,
   "metadata": {},
   "outputs": [
    {
     "data": {
      "text/plain": [
       "array([10, 11, 12, 13, 14, 15, 16, 17, 18, 19, 20, 21, 22, 23, 24, 25, 26,\n",
       "       27, 28, 29, 30, 31, 32, 33, 34, 35, 36, 37, 38, 39, 40, 41, 42, 43,\n",
       "       44, 45, 46, 47, 48, 49, 50, 51, 52, 53, 54, 55, 56, 57, 58, 59, 60,\n",
       "       61, 62, 63, 64, 65, 66, 67, 68, 69, 70, 71, 72, 73, 74, 75, 76, 77,\n",
       "       78, 79, 80, 81, 82, 83, 84, 85, 86, 87, 88, 89, 90, 91, 92, 93, 94,\n",
       "       95, 96, 97, 98, 99])"
      ]
     },
     "execution_count": 52,
     "metadata": {},
     "output_type": "execute_result"
    }
   ],
   "source": [
    "a=np.array([2,4,1,8])\n",
    "a=np.arange(10,100)\n",
    "a"
   ]
  },
  {
   "cell_type": "code",
   "execution_count": 53,
   "metadata": {},
   "outputs": [
    {
     "data": {
      "text/plain": [
       "array([[ 9, 10],\n",
       "       [11, 12],\n",
       "       [13, 14],\n",
       "       [15, 16],\n",
       "       [17, 18]])"
      ]
     },
     "execution_count": 53,
     "metadata": {},
     "output_type": "execute_result"
    }
   ],
   "source": [
    "#2D array\n",
    "arr=np.arange(9,19).reshape((5,2))\n",
    "arr"
   ]
  },
  {
   "cell_type": "code",
   "execution_count": 54,
   "metadata": {},
   "outputs": [
    {
     "name": "stdout",
     "output_type": "stream",
     "text": [
      "[array([[ 9, 10]]), array([[11, 12]]), array([[13, 14]]), array([[15, 16]]), array([[17, 18]])]\n"
     ]
    }
   ],
   "source": [
    "#split by column(vertically)\n",
    "vsplit_arr=np.vsplit(arr,5)\n",
    "print(vsplit_arr)"
   ]
  },
  {
   "cell_type": "code",
   "execution_count": 55,
   "metadata": {},
   "outputs": [
    {
     "name": "stdout",
     "output_type": "stream",
     "text": [
      "[array([[ 9],\n",
      "       [11],\n",
      "       [13],\n",
      "       [15],\n",
      "       [17]]), array([[10],\n",
      "       [12],\n",
      "       [14],\n",
      "       [16],\n",
      "       [18]])]\n"
     ]
    }
   ],
   "source": [
    "#Split by row (horizontally)\n",
    "hsplit_arr=np.hsplit(arr,2)\n",
    "print(hsplit_arr)"
   ]
  },
  {
   "cell_type": "code",
   "execution_count": 56,
   "metadata": {},
   "outputs": [],
   "source": [
    "#Putting null value\n",
    "data=np.array([1,2,np.nan,4,np.nan,6])      #nan is a null value."
   ]
  },
  {
   "cell_type": "code",
   "execution_count": 57,
   "metadata": {},
   "outputs": [
    {
     "data": {
      "text/plain": [
       "array([False, False,  True, False,  True, False])"
      ]
     },
     "execution_count": 57,
     "metadata": {},
     "output_type": "execute_result"
    }
   ],
   "source": [
    "#checking null values are present or not\n",
    "nan_mask=np.isnan(data)     #mask is a fnction for checking null values.   \n",
    "nan_mask    # \"isnan\" is used to check in particular data\n"
   ]
  },
  {
   "cell_type": "code",
   "execution_count": 58,
   "metadata": {},
   "outputs": [
    {
     "name": "stdout",
     "output_type": "stream",
     "text": [
      "total nan values are 2\n"
     ]
    }
   ],
   "source": [
    "#Checking total null values\n",
    "nan_mask=np.isnan(data)      #filter out nan values\n",
    "print(f\"total nan values are {nan_mask.sum()}\")"
   ]
  },
  {
   "cell_type": "code",
   "execution_count": 59,
   "metadata": {},
   "outputs": [
    {
     "data": {
      "text/plain": [
       "array([1., 2., 4., 6.])"
      ]
     },
     "execution_count": 59,
     "metadata": {},
     "output_type": "execute_result"
    }
   ],
   "source": [
    "#For checking non null values\n",
    "filter_data=data[~nan_mask]   #filter out non nan values\n",
    "filter_data"
   ]
  },
  {
   "cell_type": "code",
   "execution_count": 60,
   "metadata": {},
   "outputs": [
    {
     "data": {
      "text/plain": [
       "array([1., 2., 0., 4., 0., 6.])"
      ]
     },
     "execution_count": 60,
     "metadata": {},
     "output_type": "execute_result"
    }
   ],
   "source": [
    "#Replacing null values to 0\n",
    "replaced_data=np.nan_to_num(data,nan=0)\n",
    "replaced_data"
   ]
  },
  {
   "cell_type": "code",
   "execution_count": 61,
   "metadata": {},
   "outputs": [],
   "source": [
    "#filter out any avg value\n",
    "filter_data=data[~nan_mask]   #filter out nan values to avg value\n",
    "av=np.average(filter_data)"
   ]
  },
  {
   "cell_type": "code",
   "execution_count": 62,
   "metadata": {},
   "outputs": [
    {
     "data": {
      "text/plain": [
       "array([1.  , 2.  , 3.25, 4.  , 3.25, 6.  ])"
      ]
     },
     "execution_count": 62,
     "metadata": {},
     "output_type": "execute_result"
    }
   ],
   "source": [
    "#Replacing null values to any average value without specifying particular value\n",
    "replaced_data=np.nan_to_num(data,nan=av)\n",
    "replaced_data"
   ]
  },
  {
   "cell_type": "code",
   "execution_count": 63,
   "metadata": {},
   "outputs": [
    {
     "data": {
      "text/plain": [
       "3.25"
      ]
     },
     "execution_count": 63,
     "metadata": {},
     "output_type": "execute_result"
    }
   ],
   "source": [
    "(1+2+4+6)/4"
   ]
  },
  {
   "cell_type": "code",
   "execution_count": 64,
   "metadata": {},
   "outputs": [
    {
     "data": {
      "text/plain": [
       "array([ 1.,  2., nan,  4., nan,  6.])"
      ]
     },
     "execution_count": 64,
     "metadata": {},
     "output_type": "execute_result"
    }
   ],
   "source": [
    "data1=np.array([1,2,np.nan,4,np.nan,6])\n",
    "data1"
   ]
  },
  {
   "cell_type": "code",
   "execution_count": 65,
   "metadata": {},
   "outputs": [
    {
     "data": {
      "text/plain": [
       "array([1.  , 2.  , 3.25, 4.  , 3.25, 6.  ])"
      ]
     },
     "execution_count": 65,
     "metadata": {},
     "output_type": "execute_result"
    }
   ],
   "source": [
    "#alternative way\n",
    "process_data=np.nan_to_num(data1,nan=np.nanmean(data1))\n",
    "process_data"
   ]
  },
  {
   "cell_type": "code",
   "execution_count": 66,
   "metadata": {},
   "outputs": [
    {
     "data": {
      "text/plain": [
       "np.float64(3.25)"
      ]
     },
     "execution_count": 66,
     "metadata": {},
     "output_type": "execute_result"
    }
   ],
   "source": [
    "#alternative way of defining avg value where without finding non nan values we can use\n",
    "mean_without_nan=np.nanmean(data1)\n",
    "mean_without_nan"
   ]
  },
  {
   "cell_type": "markdown",
   "metadata": {},
   "source": []
  }
 ],
 "metadata": {
  "kernelspec": {
   "display_name": "Python 3",
   "language": "python",
   "name": "python3"
  },
  "language_info": {
   "codemirror_mode": {
    "name": "ipython",
    "version": 3
   },
   "file_extension": ".py",
   "mimetype": "text/x-python",
   "name": "python",
   "nbconvert_exporter": "python",
   "pygments_lexer": "ipython3",
   "version": "3.12.4"
  }
 },
 "nbformat": 4,
 "nbformat_minor": 2
}
